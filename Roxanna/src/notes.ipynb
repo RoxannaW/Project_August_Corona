{
 "metadata": {
  "language_info": {
   "codemirror_mode": {
    "name": "ipython",
    "version": 3
   },
   "file_extension": ".py",
   "mimetype": "text/x-python",
   "name": "python",
   "nbconvert_exporter": "python",
   "pygments_lexer": "ipython3",
   "version": 3
  },
  "orig_nbformat": 2
 },
 "nbformat": 4,
 "nbformat_minor": 2,
 "cells": [
  {
   "cell_type": "code",
   "execution_count": null,
   "metadata": {},
   "outputs": [],
   "source": [
    "#Plotting the curves of the new cases and deaths and the total cases and deaths, showing vertically the start date of the alarm state. \n",
    "ax = netherlands[[\"new_cases\", \"new_deaths\"]].plot()\n",
    "ax.axvline(pd.to_datetime('2020-03-23'), color='r', linestyle='--', lw=2, label='Start lockdown')\n",
    "plt.title(\"The Netherlands daily deaths and new cases\")\n",
    "plt.ylabel(\"People\")\n",
    "plt.legend()\n",
    "\n",
    "ax = netherlands[[\"total_cases\", \"total_deaths\"]].plot()\n",
    "ax.axvline(pd.to_datetime('2020-03-23'), color='r', linestyle='--', lw=2, label='Start lockdown')\n",
    "plt.title(\"The Netherlands total deaths and new cases\")\n",
    "plt.ylabel(\"People\")\n",
    "plt.legend()\n",
    "\n",
    "\n",
    "#Plotting the curves of the new cases and deaths and the total cases and deaths, showing vertically the start date and end date of the alarm state. \n",
    "ax = spain[[\"new_cases\", \"new_deaths\"]].plot()\n",
    "ax.axvline(pd.to_datetime('2020-03-14'), color='r', linestyle='--', lw=2, label=\"start/end alarmstate\")\n",
    "ax.axvline(pd.to_datetime('2020-06-21'), color='r', linestyle='--', lw=2)\n",
    "plt.title(\"Spain daily deaths and new cases\")\n",
    "plt.legend()\n",
    "\n",
    "ax = spain[[\"total_cases\", \"total_deaths\"]].plot()\n",
    "ax.axvline(pd.to_datetime('2020-03-14'), color='r', linestyle='--', lw=2, label=\"start/end alarmstate\")\n",
    "ax.axvline(pd.to_datetime('2020-06-21'), color='r', linestyle='--', lw=2)\n",
    "plt.title(\"Spain total deaths and new cases\")\n",
    "plt.legend()"
   ]
  }
 ]
}